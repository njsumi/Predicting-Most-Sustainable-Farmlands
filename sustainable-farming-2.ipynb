{
 "cells": [
  {
   "cell_type": "code",
   "execution_count": null,
   "metadata": {
    "cellView": "form",
    "id": "R-aCTwuSm0EQ"
   },
   "outputs": [],
   "source": [
    "!gdown --id 1DgOZ56YruuUmHRD7hZNJNM39mlbRGApp \n",
    "!gdown --id 1R4Nv1SY4zn_Z3wnZuJcCHKI6yVPGGgGZ\n",
    "\n",
    "import pandas as pd\n",
    "import numpy as np\n",
    "import seaborn as sns\n",
    "import matplotlib.pyplot as plt\n",
    "\n",
    "from sklearn.model_selection import train_test_split\n",
    "from sklearn.tree import DecisionTreeRegressor\n",
    "from sklearn.tree import plot_tree\n",
    "\n",
    "metadata = pd.read_table('sample_metadata.tsv')\n",
    "metadata.index = ['farm_%i' % i for i in range(len(metadata))]\n",
    "\n",
    "bacteria_counts_lognorm = pd.read_csv('bacteria_counts_lognorm.csv', index_col=0)\n"
   ]
  },
  {
   "cell_type": "code",
   "execution_count": null,
   "metadata": {
    "id": "Q0WOw4g-klQR"
   },
   "outputs": [],
   "source": [
    "X = bacteria_counts_lognorm\n",
    "y = metadata['crop_yield']\n",
    "\n",
    "X_train, X_test, y_train, y_test = train_test_split(X, y)\n",
    "\n",
    "model = DecisionTreeRegressor()\n",
    "\n",
    "model.fit(X_train, y_train)"
   ]
  },
  {
   "cell_type": "code",
   "execution_count": null,
   "metadata": {
    "id": "k6HLIQC3qdxb"
   },
   "outputs": [],
   "source": [
    "preds = model.predict(X_test)"
   ]
  },
  {
   "cell_type": "code",
   "execution_count": null,
   "metadata": {
    "id": "w1L4L4G9klQR"
   },
   "outputs": [],
   "source": [
    "plt.plot(y_test, preds, '.')\n",
    "plt.xlabel('True crop yields')\n",
    "plt.ylabel('Predicted crop yields')\n",
    "plt.show()"
   ]
  },
  {
   "cell_type": "code",
   "execution_count": null,
   "metadata": {
    "id": "gK0xcjOY8nWq"
   },
   "outputs": [],
   "source": [
    "small_model = DecisionTreeRegressor(max_depth=3, max_leaf_nodes=4)\n",
    "\n",
    "small_model.fit(X_train[['Actinocorallia', 'Clostridium sensu stricto 10', 'Blastocatellaceae']], y_train)\n"
   ]
  },
  {
   "cell_type": "code",
   "execution_count": null,
   "metadata": {
    "id": "vxGQX5MbrSDx"
   },
   "outputs": [],
   "source": [
    "plt.figure(figsize=(20,20))\n",
    "plot_tree(small_model, feature_names=['Actinocorallia', 'Clostridium sensu stricto 10', 'Blastocatellaceae'])\n",
    "plt.show()"
   ]
  },
  {
   "cell_type": "code",
   "execution_count": null,
   "metadata": {
    "id": "68ViKumVIUQQ"
   },
   "outputs": [],
   "source": [
    "plt.figure(figsize=(20,20))\n",
    "plt.show()"
   ]
  },
  {
   "cell_type": "code",
   "execution_count": null,
   "metadata": {
    "id": "Aq9MjiQMJBHx"
   },
   "outputs": [],
   "source": [
    "plt.figure(figsize=(20,20))\n",
    "plot_tree(model, feature_names=X.columns)\n",
    "plt.show()"
   ]
  },
  {
   "cell_type": "code",
   "execution_count": null,
   "metadata": {
    "id": "KhW_y2uBJhNH"
   },
   "outputs": [],
   "source": [
    "plt.figure(figsize=(20,20))\n",
    "plot_tree(model, max_depth=3, feature_names=X.columns)\n",
    "plt.show()"
   ]
  },
  {
   "cell_type": "code",
   "execution_count": null,
   "metadata": {
    "id": "wNMk04adKr_l"
   },
   "outputs": [],
   "source": [
    "feature_importance_dataframe = pd.DataFrame(model.feature_importances_, columns=['feature_importance'])\n",
    "feature_importance_dataframe.index = X.columns\n",
    "feature_importance_dataframe.head(10) "
   ]
  },
  {
   "cell_type": "code",
   "execution_count": null,
   "metadata": {
    "id": "rigKgQolLqMf"
   },
   "outputs": [],
   "source": [
    "feature_importance_dataframe_sorted = feature_importance_dataframe.sort_values('feature_importance', ascending=False)\n",
    "\n",
    "feature_importance_dataframe_sorted.head()"
   ]
  },
  {
   "cell_type": "code",
   "execution_count": null,
   "metadata": {
    "cellView": "form",
    "id": "wxfy9_Z2vupU"
   },
   "outputs": [],
   "source": [
    "model = DecisionTreeRegressor(max_depth=100, max_leaf_nodes=200)\n",
    "\n",
    "model.fit(X_train, y_train)"
   ]
  },
  {
   "cell_type": "code",
   "execution_count": null,
   "metadata": {
    "cellView": "form",
    "id": "vLQXoOVqNJNI"
   },
   "outputs": [],
   "source": [
    "preds = model.predict(X_test)\n",
    "\n",
    "plt.plot(y_test, preds, '.')\n",
    "plt.xlabel('True crop yields')\n",
    "plt.ylabel('Predicted crop yields')\n",
    "plt.show()"
   ]
  },
  {
   "cell_type": "code",
   "execution_count": null,
   "metadata": {
    "cellView": "form",
    "id": "WHHm1NOnN-K_"
   },
   "outputs": [],
   "source": [
    "plt.figure(figsize=(20,20))\n",
    "\n",
    "plot_tree(model, max_depth=3, feature_names=X.columns)\n",
    "plt.show()"
   ]
  }
 ],
 "metadata": {
  "colab": {
   "collapsed_sections": [],
   "name": "Copy of SustainableFarming_Section2.ipynb",
   "provenance": []
  },
  "kernelspec": {
   "display_name": "Python 3 (ipykernel)",
   "language": "python",
   "name": "python3"
  },
  "language_info": {
   "codemirror_mode": {
    "name": "ipython",
    "version": 3
   },
   "file_extension": ".py",
   "mimetype": "text/x-python",
   "name": "python",
   "nbconvert_exporter": "python",
   "pygments_lexer": "ipython3",
   "version": "3.9.10"
  }
 },
 "nbformat": 4,
 "nbformat_minor": 1
}
