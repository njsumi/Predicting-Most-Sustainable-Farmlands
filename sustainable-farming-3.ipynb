{
 "cells": [
  {
   "cell_type": "code",
   "execution_count": null,
   "metadata": {
    "cellView": "form",
    "id": "nYn2RF2qvGOS"
   },
   "outputs": [],
   "source": [
    "!gdown --id 1DgOZ56YruuUmHRD7hZNJNM39mlbRGApp \n",
    "!gdown --id 1R4Nv1SY4zn_Z3wnZuJcCHKI6yVPGGgGZ \n",
    "\n",
    "\n",
    "import pandas as pd\n",
    "import numpy as np\n",
    "import seaborn as sns\n",
    "import matplotlib.pyplot as plt\n",
    "\n",
    "from sklearn.model_selection import train_test_split\n",
    "from sklearn.neural_network import MLPRegressor\n",
    "from sklearn.tree import DecisionTreeRegressor\n",
    "from sklearn.neighbors import KNeighborsRegressor\n",
    "from sklearn.linear_model import LinearRegression\n",
    "\n",
    "from sklearn.metrics import r2_score, mean_absolute_error\n",
    "\n",
    "metadata = pd.read_table('sample_metadata.tsv')\n",
    "metadata.index = ['farm_%i' % i for i in range(len(metadata))]\n",
    "bacteria_counts_lognorm = pd.read_csv('bacteria_counts_lognorm.csv', index_col=0)"
   ]
  },
  {
   "cell_type": "code",
   "execution_count": null,
   "metadata": {
    "id": "ymiNuD0H5Unb"
   },
   "outputs": [],
   "source": [
    "X = bacteria_counts_lognorm\n",
    "y = metadata['crop_yield']\n",
    "\n",
    "X_train_dtr, X_test_dtr, y_train_dtr, y_test_dtr = train_test_split(X, y)\n",
    "\n",
    "decision_tree_regressor = DecisionTreeRegressor(max_depth=100, max_leaf_nodes=200)\n",
    "\n",
    "decision_tree_regressor.fit(X_train_dtr, y_train_dtr)\n",
    "\n",
    "preds_dtr = decision_tree_regressor.predict(X_test_dtr)\n",
    "\n",
    "plt.plot(y_test_dtr, preds_dtr, '.')\n",
    "plt.xlabel('True crop yields')\n",
    "plt.ylabel('Predicted crop yields')\n",
    "plt.show()"
   ]
  },
  {
   "cell_type": "code",
   "execution_count": null,
   "metadata": {
    "id": "wxfy9_Z2vupU"
   },
   "outputs": [],
   "source": [
    "X = bacteria_counts_lognorm\n",
    "y = metadata['crop_yield']\n",
    "\n",
    "X_train, X_test, y_train, y_test = train_test_split(X, y)\n",
    "\n",
    "model = DecisionTreeRegressor(max_depth=100, max_leaf_nodes=200)\n",
    "\n",
    "model.fit(X_train, y_train)\n",
    "\n",
    "preds = model.predict(X_test)\n",
    "\n",
    "plt.plot(y_test, preds, '.')\n",
    "plt.xlabel('True crop yields')\n",
    "plt.ylabel('Predicted crop yields')\n",
    "plt.show()"
   ]
  },
  {
   "cell_type": "code",
   "execution_count": null,
   "metadata": {
    "id": "dIS96PSyeg4r"
   },
   "outputs": [],
   "source": [
    "X = bacteria_counts_lognorm\n",
    "y = metadata['crop_yield']\n",
    "\n",
    "X_train, X_test, y_train, y_test = train_test_split(X, y)\n",
    "\n",
    "model = LinearRegression()\n",
    "\n",
    "model.fit(X_train, y_train)\n",
    "\n",
    "preds = model.predict(X_test)\n",
    "\n",
    "plt.plot(y_test, preds, '.')\n",
    "plt.xlabel('True crop yields')\n",
    "plt.ylabel('Predicted crop yields')\n",
    "plt.show()"
   ]
  },
  {
   "cell_type": "code",
   "execution_count": null,
   "metadata": {
    "id": "Oj6dVVJE2Ecr"
   },
   "outputs": [],
   "source": [
    "R2 = r2_score(y_test, preds)\n",
    "print('R2=', R2)"
   ]
  },
  {
   "cell_type": "code",
   "execution_count": null,
   "metadata": {
    "id": "K9KBCdpT2E0_"
   },
   "outputs": [],
   "source": [
    "MAE = mean_absolute_error(y_test, preds)\n",
    "print('MAE=', MAE)"
   ]
  },
  {
   "cell_type": "code",
   "execution_count": null,
   "metadata": {
    "id": "WOKuJb4YhpXx"
   },
   "outputs": [],
   "source": [
    "def relative_squared_error(true_vals, pred_vals):\n",
    "\n",
    "  total_squared_error = sum((pred_vals-true_vals)**2)\n",
    "\n",
    "  average_of_true_vals = np.mean(true_vals)\n",
    "\n",
    "  total_squared_error_simple_predictor  = sum((average_of_true_vals-true_vals)**2)\n",
    "\n",
    "  return (total_squared_error/total_squared_error_simple_predictor)\n",
    "\n",
    "\n",
    "RSE = relative_squared_error(y_test, preds)\n",
    "print('RSE=', RSE)"
   ]
  },
  {
   "cell_type": "code",
   "execution_count": null,
   "metadata": {
    "id": "tWpvLUtkfnYk"
   },
   "outputs": [],
   "source": [
    "metadata"
   ]
  },
  {
   "cell_type": "code",
   "execution_count": null,
   "metadata": {
    "id": "sscV9EKHWS8U"
   },
   "outputs": [],
   "source": [
    "crop_yield_test_predictions = model.predict(X_test) \n",
    "\n",
    "yield_predictions_dataframe = pd.DataFrame(data={'farm':X_test.index, 'crop_yield':crop_yield_test_predictions})\n",
    "yield_predictions_dataframe.head()"
   ]
  },
  {
   "cell_type": "code",
   "execution_count": null,
   "metadata": {
    "id": "V4ICXCIS49L9"
   },
   "outputs": [],
   "source": [
    "sorted_dataframe = yield_predictions_dataframe.sort_values('crop_yield', ascending=False) # FILL IN ####\n",
    "\n",
    "top_farms_dataframe = sorted_dataframe.head(10)\n",
    "farm_names=top_farms_dataframe['farm']\n",
    "print(\"According to our model, the top 10 best plots are:\", farm_names.to_list())\n",
    "top_farms_dataframe"
   ]
  },
  {
   "cell_type": "code",
   "execution_count": null,
   "metadata": {
    "id": "m6dT6JRmKOLO"
   },
   "outputs": [],
   "source": [
    "crop_yields_top_10_predictions = top_farms_dataframe['crop_yield']\n",
    "\n",
    "\n",
    "total_crop_yield_using_model = None \n",
    "print(\"total crop yield using model suggestions: \", total_crop_yield_using_model)"
   ]
  },
  {
   "cell_type": "code",
   "execution_count": null,
   "metadata": {
    "id": "eQIUVhVh6cel"
   },
   "outputs": [],
   "source": [
    "crop_yields_top_10_predictions = top_farms_dataframe['crop_yield']\n",
    "\n",
    "\n",
    "total_crop_yield_using_model = sum(crop_yields_top_10_predictions)\n",
    "print(\"total crop yield using model suggestions: \", total_crop_yield_using_model)"
   ]
  },
  {
   "cell_type": "code",
   "execution_count": null,
   "metadata": {
    "id": "k6Bpy8ZT60Hf"
   },
   "outputs": [],
   "source": [
    "np.random.seed(42) \n",
    "\n",
    "crop_yields_10_random_picks = np.random.choice(y_test, 10)\n",
    "\n",
    "total_crop_yield_using_lottery = sum(crop_yields_10_random_picks)\n",
    "print(\"total crop yield using random picks: \", total_crop_yield_using_lottery)"
   ]
  },
  {
   "cell_type": "code",
   "execution_count": null,
   "metadata": {
    "id": "Oi8-LuHl7W6D"
   },
   "outputs": [],
   "source": [
    "total_crop_yield_using_lottery_list = np.array([])\n",
    "for _ in range(100): \n",
    "\n",
    "  crop_yields_10_random_picks =np.random.choice(y_test, 10)\n",
    "  total_crop_yield_using_lottery =sum(crop_yields_10_random_picks)\n",
    "\n",
    "  total_crop_yield_using_lottery_list = np.append(total_crop_yield_using_lottery_list, total_crop_yield_using_lottery)\n",
    "print('lottery crop yields: ', total_crop_yield_using_lottery_list)"
   ]
  },
  {
   "cell_type": "code",
   "execution_count": null,
   "metadata": {
    "id": "M9e3miawPeu3"
   },
   "outputs": [],
   "source": [
    "avg_total_crop_yield_from_lottery = np.mean(total_crop_yield_using_lottery_list)\n",
    "print(\"average crop yield using lottery system:\", avg_total_crop_yield_from_lottery)"
   ]
  },
  {
   "cell_type": "code",
   "execution_count": null,
   "metadata": {
    "id": "kRvCxdOaeRaj"
   },
   "outputs": [],
   "source": [
    "plt.hist(total_crop_yield_using_lottery_list)\n",
    "plt.vlines(total_crop_yield_using_model, ymin=0, ymax=30, color='r', linestyle='dashed')\n",
    "plt.xlabel('Total crop yield')\n",
    "plt.ylabel('Frequency')\n",
    "plt.title('Total Crop Yield if picked randomly')\n",
    "print('Dotted line represents total crop yield if using model to select farms.')"
   ]
  }
 ],
 "metadata": {
  "colab": {
   "collapsed_sections": [],
   "name": "Copy of SustainableFarming_Section3.ipynb",
   "provenance": []
  },
  "kernelspec": {
   "display_name": "Python 3 (ipykernel)",
   "language": "python",
   "name": "python3"
  },
  "language_info": {
   "codemirror_mode": {
    "name": "ipython",
    "version": 3
   },
   "file_extension": ".py",
   "mimetype": "text/x-python",
   "name": "python",
   "nbconvert_exporter": "python",
   "pygments_lexer": "ipython3",
   "version": "3.9.10"
  }
 },
 "nbformat": 4,
 "nbformat_minor": 1
}
