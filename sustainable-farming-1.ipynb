{
 "cells": [
  {
   "cell_type": "code",
   "execution_count": null,
   "metadata": {
    "cellView": "form",
    "id": "VoQM7javZl7b"
   },
   "outputs": [],
   "source": [
    "!gdown --id 1DgOZ56YruuUmHRD7hZNJNM39mlbRGApp \n",
    "!gdown --id 1Df7xqxCbENHB4oeovf2dYpx9_3dyYEYv \n",
    "!gdown --id 15SQ9C5r_ExRGTiX3zehu959lKW_LrrBp \n",
    "!gdown --id 1yeBvAHeULU4Vk_TeAtWuF8kZRhyNCNa- \n",
    "\n",
    "import pandas as pd\n",
    "import numpy as np\n",
    "import seaborn as sns\n",
    "import matplotlib.pyplot as plt\n",
    "from sklearn.model_selection import train_test_split\n",
    "from sklearn.tree import DecisionTreeRegressor\n",
    "from sklearn.tree import plot_tree\n",
    "\n",
    "metadata = pd.read_table('sample_metadata.tsv')\n",
    "metadata.index = ['farm_%i' %i for i in range(len(metadata))]\n",
    "\n",
    "sequences_counts = pd.read_table('16S_counts.tsv')\n",
    "sequences_counts.index = ['farm_%i' % i for i in range(len(sequences_counts))]\n",
    "\n",
    "bacteria_counts = pd.read_table('bacteria_counts.tsv')\n",
    "bacteria_counts.index = ['farm_%i' % i for i in range(len(bacteria_counts))]\n",
    "cols = list(bacteria_counts.columns)\n",
    "np.random.seed(42)\n",
    "np.random.shuffle(cols)\n",
    "bacteria_counts = bacteria_counts[cols]\n",
    "sequence_to_species_dict = np.load('sequence_to_species_dict.npy', allow_pickle=True).item()\n",
    "\n",
    "bacteria_counts = bacteria_counts.drop(['Unnamed: 0'], axis=1) "
   ]
  },
  {
   "cell_type": "code",
   "execution_count": null,
   "metadata": {
    "cellView": "form",
    "id": "x7L85UXAIR4i"
   },
   "outputs": [],
   "source": [
    "_people_vs_planet_ = '' \n",
    "_hand_in_hand_ = '' \n",
    "print('Example answers: \\n Plane travel is extremely carbon-expensive, \\n but many people enjoy travelling or visiting people far away.  \\n On the other hand, water pollution affects the health of local \\n animals, plants, and humans.')"
   ]
  },
  {
   "cell_type": "code",
   "execution_count": null,
   "metadata": {
    "id": "_y882J5cZx-G"
   },
   "outputs": [],
   "source": [
    "metadata.head()"
   ]
  },
  {
   "cell_type": "code",
   "execution_count": null,
   "metadata": {
    "cellView": "form",
    "id": "_mMlujjLgy_X"
   },
   "outputs": [],
   "source": [
    "print('Answers: Australia, Barley, No')"
   ]
  },
  {
   "cell_type": "code",
   "execution_count": null,
   "metadata": {
    "cellView": "form",
    "id": "ABopRLnsQMpM"
   },
   "outputs": [],
   "source": [
    "ax = sns.histplot(data=metadata['crop_yield'])\n",
    "ax.set(xlabel='Crop Yield', ylabel='Number of Farms')\n",
    "plt.show()\n"
   ]
  },
  {
   "cell_type": "code",
   "execution_count": null,
   "metadata": {
    "id": "M5-lA_j-cBME"
   },
   "outputs": [],
   "source": [
    "bacteria_counts.head()"
   ]
  },
  {
   "cell_type": "code",
   "execution_count": null,
   "metadata": {
    "cellView": "form",
    "id": "IYOtIS0inMKz"
   },
   "outputs": [],
   "source": [
    "low_prev_bacteria = []\n",
    "bacteria = bacteria_counts.columns\n",
    "for b in bacteria:\n",
    "  if sum(bacteria_counts[b]>0)<10:  \n",
    "\n",
    "    low_prev_bacteria = low_prev_bacteria + [b]\n",
    "\n",
    "\n",
    "n_low_prevalence = len(low_prev_bacteria)\n",
    "print('%i bacteria are low prevalence.' % n_low_prevalence)\n",
    "\n",
    "bacteria_counts_no_low_prev = bacteria_counts.drop(low_prev_bacteria, axis=1)"
   ]
  },
  {
   "cell_type": "code",
   "execution_count": null,
   "metadata": {
    "id": "gP22IId7oP5W"
   },
   "outputs": [],
   "source": [
    "bacteria_counts_lognorm = np.log(bacteria_counts_no_low_prev + 1)"
   ]
  },
  {
   "cell_type": "code",
   "execution_count": null,
   "metadata": {
    "id": "ioNbvvN0na9Z"
   },
   "outputs": [],
   "source": [
    "bacteria_counts_lognorm.to_csv('bacteria_counts_lognorm.csv')"
   ]
  },
  {
   "cell_type": "code",
   "execution_count": null,
   "metadata": {
    "id": "OBULv4cLpw5z"
   },
   "outputs": [],
   "source": [
    "f = sns.clustermap(bacteria_counts_lognorm)\n",
    "f.ax_heatmap.set_ylabel('Farm idx')\n",
    "f.ax_heatmap.set_xlabel('Bacteria Species')\n",
    "plt.show()"
   ]
  },
  {
   "cell_type": "code",
   "execution_count": null,
   "metadata": {
    "id": "_jofO3VlejMf"
   },
   "outputs": [],
   "source": [
    "sequences_counts.head()"
   ]
  },
  {
   "cell_type": "code",
   "execution_count": null,
   "metadata": {
    "id": "3_dbKifWjCq3"
   },
   "outputs": [],
   "source": [
    "bacteria_counts[bacteria_counts.columns[20::20]].head()"
   ]
  },
  {
   "cell_type": "code",
   "execution_count": null,
   "metadata": {
    "id": "6Ap3VJFZliij"
   },
   "outputs": [],
   "source": [
    "sequences_counts_t = sequences_counts.transpose() \n",
    "\n",
    "sequences_counts_t['species'] = [sequence_to_species_dict[i] for i in sequences_counts_t.index]\n",
    "\n",
    "summed_data = sequences_counts_t.groupby('species').sum()\n",
    "\n",
    "bacteria_counts = summed_data.transpose()\n",
    "bacteria_counts.head()"
   ]
  },
  {
   "cell_type": "code",
   "execution_count": null,
   "metadata": {
    "id": "Z5utC-Fzm1zo"
   },
   "outputs": [],
   "source": [
    "print('Shape of sequence_counts:', np.shape(sequences_counts))\n",
    "print('Shape of bacteria_counts:', np.shape(bacteria_counts))"
   ]
  },
  {
   "cell_type": "code",
   "execution_count": null,
   "metadata": {
    "id": "W8QjT0mpnNAN"
   },
   "outputs": [],
   "source": [
    "bacteria_counts"
   ]
  }
 ],
 "metadata": {
  "colab": {
   "collapsed_sections": [],
   "name": "Copy of SustainableFarming_Section1.ipynb",
   "provenance": []
  },
  "kernelspec": {
   "display_name": "Python 3 (ipykernel)",
   "language": "python",
   "name": "python3"
  },
  "language_info": {
   "codemirror_mode": {
    "name": "ipython",
    "version": 3
   },
   "file_extension": ".py",
   "mimetype": "text/x-python",
   "name": "python",
   "nbconvert_exporter": "python",
   "pygments_lexer": "ipython3",
   "version": "3.9.10"
  }
 },
 "nbformat": 4,
 "nbformat_minor": 1
}
